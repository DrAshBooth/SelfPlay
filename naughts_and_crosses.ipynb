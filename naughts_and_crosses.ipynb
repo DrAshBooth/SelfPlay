{
 "cells": [
  {
   "attachments": {},
   "cell_type": "markdown",
   "metadata": {},
   "source": [
    "# Naughts and Crosses\n",
    "\n",
    "I'll use this notebook for experiementing with various ways of 'learning' naughts and crosses strategies. Before we start talking about learning, let's build out our naughts and crosss game.\n",
    "\n",
    "We'll represet our game board with a simple array of 9 stirngs where each element can take one of three values: ' ', 'O', or 'X'. Here's an example and a helper function for printing them into a form that we are familiar with:"
   ]
  },
  {
   "cell_type": "code",
   "execution_count": 59,
   "metadata": {},
   "outputs": [
    {
     "name": "stdout",
     "output_type": "stream",
     "text": [
      "O| |X\n",
      "-+-+-\n",
      " |X| \n",
      "-+-+-\n",
      " | | \n"
     ]
    }
   ],
   "source": [
    "board = (' ', ' ', ' ', ' ', 'X', ' ', 'O', ' ', 'X')\n",
    "\n",
    "def printBoard(board):\n",
    "    print(board[6] + '|' + board[7] + '|' + board[8])\n",
    "    print('-+-+-')\n",
    "    print(board[3] + '|' + board[4] + '|' + board[5])\n",
    "    print('-+-+-')\n",
    "    print(board[0] + '|' + board[1] + '|' + board[2])\n",
    "\n",
    "printBoard(board)"
   ]
  },
  {
   "cell_type": "markdown",
   "metadata": {},
   "source": [
    "Now that we have a way of reprsenting and displaying a board, we'll write a function to check for the state of the game: incomplete, win, or draw.\n",
    "\n",
    "Note, this is not the most efficient way to check state, we're focussing on readability here. We can optimise if the need arrises."
   ]
  },
  {
   "cell_type": "code",
   "execution_count": 66,
   "metadata": {},
   "outputs": [
    {
     "name": "stdout",
     "output_type": "stream",
     "text": [
      "O| |X\n",
      "-+-+-\n",
      " |X| \n",
      "-+-+-\n",
      " | | \n",
      "incomplete\n",
      "\n",
      "X|X|X\n",
      "-+-+-\n",
      " |X| \n",
      "-+-+-\n",
      " | | \n",
      "win\n",
      "\n",
      "X|O|X\n",
      "-+-+-\n",
      "X|O|O\n",
      "-+-+-\n",
      "O|X|O\n",
      "draw\n"
     ]
    }
   ],
   "source": [
    "def checkBoardState(board):\n",
    "    if ' ' not in board:\n",
    "        return 'draw'\n",
    "    elif board[6] == board[7] == board[8] != ' ':   # across the top\n",
    "        return 'win'\n",
    "    elif board[3] == board[4] == board[5] != ' ': # across the middle\n",
    "        return 'win'\n",
    "    elif board[0] == board[1] == board[2] != ' ': # across the bottom\n",
    "        return 'win'\n",
    "    elif board[0] == board[3] == board[6] != ' ': # down the left\n",
    "        return 'win'\n",
    "    elif board[1] == board[4] == board[7] != ' ': # down the middle\n",
    "        return 'win'\n",
    "    elif board[2] == board[5] == board[8] != ' ': # down the right\n",
    "        return 'win'\n",
    "    elif board[6] == board[4] == board[3] != ' ': # diagonal\n",
    "        return 'win'\n",
    "    elif board[8] == board[4] == board[0] != ' ': # diagonal\n",
    "        return 'win'\n",
    "    else:\n",
    "        return 'incomplete'\n",
    "\n",
    "a = (' ', ' ', ' ', ' ', 'X', ' ', 'O', ' ', 'X')\n",
    "b = (' ', ' ', ' ', ' ', 'X', ' ', 'X', 'X', 'X')\n",
    "c = ('O', 'X', 'O', 'X', 'O', 'O', 'X', 'O', 'X')\n",
    "printBoard(a)\n",
    "print(checkBoardState(a))\n",
    "print()\n",
    "printBoard(b)\n",
    "print(checkBoardState(b))\n",
    "print()\n",
    "printBoard(c)\n",
    "print(checkBoardState(c))"
   ]
  },
  {
   "cell_type": "markdown",
   "metadata": {},
   "source": [
    "Next, in order to create a computer player, we need to be able to represent a strategy. A strategy determins which move a player will make given the state of the board."
   ]
  },
  {
   "cell_type": "code",
   "execution_count": null,
   "metadata": {},
   "outputs": [],
   "source": []
  },
  {
   "cell_type": "code",
   "execution_count": null,
   "metadata": {},
   "outputs": [],
   "source": []
  },
  {
   "cell_type": "code",
   "execution_count": 56,
   "metadata": {},
   "outputs": [],
   "source": [
    "from itertools import product\n",
    "\n",
    "boards_array = list(product(' XO', repeat=9))\n",
    "boards_map = { s : i for i,s in enumerate(boards_array)}"
   ]
  },
  {
   "cell_type": "code",
   "execution_count": 52,
   "metadata": {},
   "outputs": [
    {
     "data": {
      "text/plain": [
       "(' ', ' ', ' ', ' ', 'X', ' ', 'O', ' ', 'X')"
      ]
     },
     "execution_count": 52,
     "metadata": {},
     "output_type": "execute_result"
    }
   ],
   "source": [
    "boards_array[100]"
   ]
  },
  {
   "cell_type": "code",
   "execution_count": 57,
   "metadata": {},
   "outputs": [
    {
     "data": {
      "text/plain": [
       "100"
      ]
     },
     "execution_count": 57,
     "metadata": {},
     "output_type": "execute_result"
    }
   ],
   "source": [
    "boards_map[(' ', ' ', ' ', ' ', 'X', ' ', 'O', ' ', 'X')]"
   ]
  },
  {
   "cell_type": "code",
   "execution_count": 67,
   "metadata": {},
   "outputs": [],
   "source": [
    "def game():\n",
    "    raise NotImplementedError"
   ]
  },
  {
   "cell_type": "code",
   "execution_count": null,
   "metadata": {},
   "outputs": [],
   "source": []
  },
  {
   "cell_type": "markdown",
   "metadata": {},
   "source": [
    "# Evolutionary Learning\n",
    "\n",
    "Start with GA's brief intro to GAs...\n",
    "\n",
    "## Representing Strategies \n",
    "Strategies will be represented by an array where the index of each element corresponds to a unique board configuration and the value at the index will be an integer from 0-8 that corresponds to a move. As there are 3<sup>9</sup> possible board configurations, this will be the length of the strategy array.\n",
    "\n",
    "For example, index 0 or our 3<sup>9</sup> strategy array could correspond to this board configuration:\n",
    "\n",
    "<img src=\"empty_board.png\" style=\"width: 150px;\">\n",
    "\n",
    "and a value of 0 in that array would indicate placing a mark in the first cell when presented with this board configuration, leaving:\n",
    "\n",
    "<img src=\"one_board.png\" style=\"width: 150px;\">\n",
    "\n",
    "\n",
    "\n",
    "\n",
    "\n",
    "We will create an array of string representations of each possible board configuration and some functions for mapping from the index of a genome to string representation of the board and back:"
   ]
  },
  {
   "cell_type": "code",
   "execution_count": null,
   "metadata": {},
   "outputs": [],
   "source": []
  }
 ],
 "metadata": {
  "kernelspec": {
   "display_name": "Python 3",
   "language": "python",
   "name": "python3"
  },
  "language_info": {
   "codemirror_mode": {
    "name": "ipython",
    "version": 3
   },
   "file_extension": ".py",
   "mimetype": "text/x-python",
   "name": "python",
   "nbconvert_exporter": "python",
   "pygments_lexer": "ipython3",
   "version": "3.7.4"
  }
 },
 "nbformat": 4,
 "nbformat_minor": 2
}
